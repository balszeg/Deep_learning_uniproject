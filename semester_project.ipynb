{
  "nbformat": 4,
  "nbformat_minor": 0,
  "metadata": {
    "colab": {
      "name": "NagyHF.ipynb",
      "provenance": [],
      "collapsed_sections": [],
      "include_colab_link": true
    },
    "kernelspec": {
      "name": "python3",
      "display_name": "Python 3"
    },
    "accelerator": "GPU"
  },
  "cells": [
    {
      "cell_type": "markdown",
      "metadata": {
        "id": "view-in-github",
        "colab_type": "text"
      },
      "source": [
        "<a href=\"https://colab.research.google.com/github/balszeg/Deep_learning_uniproject/blob/main/semester_project.ipynb\" target=\"_parent\"><img src=\"https://colab.research.google.com/assets/colab-badge.svg\" alt=\"Open In Colab\"/></a>"
      ]
    },
    {
      "cell_type": "markdown",
      "metadata": {
        "id": "DgutyH2O5weS"
      },
      "source": [
        "## Milestone #1 ##\n",
        "Cloning the chosen git repository for the dataset."
      ]
    },
    {
      "cell_type": "code",
      "metadata": {
        "id": "UTp3PSju6-77"
      },
      "source": [
        "!git clone https://github.com/ieee8023/covid-chestxray-dataset.git"
      ],
      "execution_count": null,
      "outputs": []
    },
    {
      "cell_type": "markdown",
      "metadata": {
        "id": "aA2HNSmyJ6oU"
      },
      "source": [
        "Importing the necessary libraries"
      ]
    },
    {
      "cell_type": "code",
      "metadata": {
        "id": "VmRQTD-zJ2I1"
      },
      "source": [
        "import os\n",
        "import matplotlib.pyplot as plt\n",
        "import numpy as np\n",
        "import cv2\n",
        "import csv\n",
        "import tensorflow as tf\n",
        "from sklearn.model_selection import train_test_split"
      ],
      "execution_count": null,
      "outputs": []
    },
    {
      "cell_type": "markdown",
      "metadata": {
        "id": "kn7JgkXQJBpP"
      },
      "source": [
        "Setting the path for the images, and reading there names in a list."
      ]
    },
    {
      "cell_type": "code",
      "metadata": {
        "id": "4OKnkghbHoc8"
      },
      "source": [
        "image_path ='/content/covid-chestxray-dataset/images'\n",
        "image_names=os.listdir(image_path)\n",
        "print(image_names)"
      ],
      "execution_count": null,
      "outputs": []
    },
    {
      "cell_type": "markdown",
      "metadata": {
        "id": "xtQ8s7OGTPVb"
      },
      "source": [
        "Read the labels for the learning from a CSV file and put the names of the X-rays into an another list with the same order.\n"
      ]
    },
    {
      "cell_type": "code",
      "metadata": {
        "id": "WZ8hfsUe6--Y"
      },
      "source": [
        "x_raw_name=[] # the names of the pictures\n",
        "y_label=[] # pcr test: True=+, False=-\n",
        "images = [] # array for the actual images\n",
        "\n",
        "with open('/content/covid-chestxray-dataset/metadata.csv') as csv_file: #load the csv from the session storage\n",
        "    csv_reader = csv.reader(csv_file, delimiter=',') # ',' is the separating character\n",
        "    line_count = 0 # line counter\n",
        "    for row in csv_reader:\n",
        "        if line_count == 0:\n",
        "            # print(\"Images, PCR_test result\") #the 0.th row is just a header\n",
        "            line_count = 1\n",
        "        else:\n",
        "            if row[23] in image_names: # check if we have the x-ray image for this diagnosis\n",
        "                if row[5]=='': # negative covid test\n",
        "                  y_label.append(False)\n",
        "                if row[5]=='Y': #positive covid test\n",
        "                  y_label.append(True)\n",
        "                if row[5]=='Y' or row[5]=='':\n",
        "                  x_raw_name.append(row[23])\n",
        "                  img = cv2.imread(image_path + '/' + x_raw_name[-1],0) # load the image\n",
        "                  img = cv2.resize(img, (512,512), interpolation = cv2.INTER_AREA) # resize the image to 512*512\n",
        "                  images.append(img)\n",
        "                  line_count += 1\n",
        "    # print(f'Processed {line_count} lines.')\n",
        "    print(f'{line_count-1} examples')\n",
        "    images = np.asarray(images)\n",
        "    y_label = np.asarray(y_label)\n",
        "    # print(images.shape)\n"
      ],
      "execution_count": null,
      "outputs": []
    },
    {
      "cell_type": "code",
      "metadata": {
        "id": "IMClirraOF02"
      },
      "source": [
        "#lets check some data now: all the images are 512*512 now\n",
        "plt.imshow(images[1]) # the most of the images are \"front\""
      ],
      "execution_count": null,
      "outputs": []
    },
    {
      "cell_type": "code",
      "metadata": {
        "id": "BlResIgmz_Nh"
      },
      "source": [
        "plt.imshow(images[25]) #some of them has taken from the side."
      ],
      "execution_count": null,
      "outputs": []
    },
    {
      "cell_type": "code",
      "metadata": {
        "id": "bpC9MqcOz_ZE"
      },
      "source": [
        "plt.imshow(images[8]) # in some picture we can see wires and other medical equipments, it will might be hard to ignore and separate them from the important data: the pneumonia, during the deep learning\n",
        "#the labels in the pictures also can cause some issue"
      ],
      "execution_count": null,
      "outputs": []
    },
    {
      "cell_type": "markdown",
      "metadata": {
        "id": "6uijI2sQE2c1"
      },
      "source": [
        "Normalizing the images"
      ]
    },
    {
      "cell_type": "code",
      "metadata": {
        "id": "YahAbHdBkDVF"
      },
      "source": [
        "# \"normalize\" the images\n",
        "for i in range(len(images)):\n",
        "  images[i] =images[i]/255 # all pixel value between 0 and 1\n"
      ],
      "execution_count": null,
      "outputs": []
    },
    {
      "cell_type": "code",
      "metadata": {
        "id": "2uoY_vyUBrV0"
      },
      "source": [
        "print(len(y_label)) #size of the database, we don't use the images where the pcr test wasn't sure"
      ],
      "execution_count": null,
      "outputs": []
    },
    {
      "cell_type": "markdown",
      "metadata": {
        "id": "7fxW57NXE5pm"
      },
      "source": [
        "Splitting the data into training, testing and validation sets"
      ]
    },
    {
      "cell_type": "code",
      "metadata": {
        "id": "jwJaMvCk5cpX"
      },
      "source": [
        "# split the data into train, test, and validation arrays\n",
        "x_train, x_2, y_train, y_2 = train_test_split(images, y_label, test_size=0.3, shuffle=True) # 70% of the data is the train data, 30% is for test and validation\n",
        "x_test, x_valid, y_test, y_valid = train_test_split(x_2, y_2, test_size=0.33, shuffle=True) # Two thirds of the remaining 30% is test data and the remaining is for validation\n",
        "# shape of the arrays\n",
        "print(x_train.shape)\n",
        "print(x_test.shape)\n",
        "print(x_valid.shape)\n",
        "print(y_train.shape)\n",
        "print(y_test.shape)\n",
        "print(y_valid.shape)"
      ],
      "execution_count": null,
      "outputs": []
    }
  ]
}